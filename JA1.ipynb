{
 "cells": [
  {
   "cell_type": "markdown",
   "metadata": {},
   "source": [
    "## While you are working on this assignment, make sure both data files are in your working directory.\n",
    "\n",
    "### Problem 1 (4 points)\n",
    "\n",
    "Nearly 1.8 million bachelor’s degrees and over 750,000 master’s degrees are awarded annually by U.S. postsecondary institutions (National Center for Education Statistics web- site, November, 2014). The department of Education tracks the field of study for these graduates in the following categories: Business (B), Computer Sciences and Engineering (CSE), Education (E), Humanities (H), Natural Sciences and Mathematics (NSM), Social and Behavioral Sciences (SBS), and Other (O).\n",
    "\n",
    "Please read the data from \"Majors.csv\" and complete the following tasks. Make sure that \"Majors.csv\" is in your working directory. Pay attention to the format of the data and do not make any change to the data file."
   ]
  },
  {
   "cell_type": "code",
   "execution_count": null,
   "metadata": {
    "collapsed": true
   },
   "outputs": [],
   "source": [
    "# 1-1: Provide a percent frequency distribution of field of study for each degree\n",
    "\n"
   ]
  },
  {
   "cell_type": "code",
   "execution_count": null,
   "metadata": {
    "collapsed": true
   },
   "outputs": [],
   "source": [
    "# 1-2: Use list comprehension to display the field of study's change in percentage from bachelor's to master's. \n",
    "# Use \"(master - bachelor)/bachelor to compute the percentage change. \n",
    "\n"
   ]
  },
  {
   "cell_type": "code",
   "execution_count": null,
   "metadata": {
    "collapsed": true
   },
   "outputs": [],
   "source": [
    "# 1-3: Construct a pie chart for field of study for bachelor's degree with proper label/title/legend.\n",
    "\n"
   ]
  },
  {
   "cell_type": "code",
   "execution_count": null,
   "metadata": {
    "collapsed": true
   },
   "outputs": [],
   "source": [
    "# 1-4: Construct a bar chart for field of study for master's degree with proper label/title/legend.\n",
    "\n"
   ]
  },
  {
   "cell_type": "markdown",
   "metadata": {},
   "source": [
    "### Problem 2 (11 points)\n",
    "The 32 teams in the National Football League (NFL) are worth, on average, $1.17 billion, 5 percent more than last year. The data file \"NFLTeamValue.csv\" shows the annual revenue (\\$ millions) and the estimated team value (\\$ millions) for the 32 NFL teams (forbes website, February 28, 2014). \n",
    "\n",
    "Please read the data from \"NFLTeamValue.csv\" and complete the following tasks. Make sure that \"NFLTeamValue.csv\" is in your working directory. Pay attention to the format of the data and do not make any change to the data file.\n",
    "\n",
    "Note: In total, there are 32 teams. Therefore, the data contains the entire population. Make sure you use appropriate formulars (for population, not for sample) when computing the values needed."
   ]
  },
  {
   "cell_type": "code",
   "execution_count": 1,
   "metadata": {
    "collapsed": true
   },
   "outputs": [],
   "source": [
    "# 2-1: Develop and display a histogram for the annual revenue with proper label/title/legend. \n",
    "# Choose an appropriate value for the number of bins.\n",
    "\n"
   ]
  },
  {
   "cell_type": "code",
   "execution_count": null,
   "metadata": {
    "collapsed": true
   },
   "outputs": [],
   "source": [
    "# 2-2: Compute and display the following information for the annual revenue: \n",
    "# mean, median, variance, standard deviation, 1st and 3rd quartile, 10th and 90th percentile and IQR.\n",
    "# Don't simply print out a number. Make sure you clearly indicate what a number is. For example, \"the mean of the annual revenue is\"\n",
    "\n",
    "\n",
    "\n"
   ]
  },
  {
   "cell_type": "code",
   "execution_count": null,
   "metadata": {
    "collapsed": true
   },
   "outputs": [],
   "source": [
    "# 2-3: Compute and display z-scores for Dallas Cowboys, Oakland Raiders, and Chicago Bears. (2 points)\n",
    "# And then print out the team names of all outliers based on z-score.\n",
    "# Read the textbook if you don't know how to determine outliers based on z-score.\n",
    "\n"
   ]
  },
  {
   "cell_type": "code",
   "execution_count": null,
   "metadata": {
    "collapsed": true
   },
   "outputs": [],
   "source": [
    "# 2-4: Develop and display a box plot for the estimated team value with proper label/title/legend.\n",
    "\n"
   ]
  },
  {
   "cell_type": "code",
   "execution_count": null,
   "metadata": {
    "collapsed": true
   },
   "outputs": [],
   "source": [
    "# 2-5: Compute and display the following information for the estimated team value: \n",
    "# mean, median, variance, standard deviation, 1st and 3rd quartile, 10th and 90th percentile and IQR.\n",
    "\n"
   ]
  },
  {
   "cell_type": "code",
   "execution_count": null,
   "metadata": {
    "collapsed": true
   },
   "outputs": [],
   "source": [
    "# 2-6: Print out the team names of all outliers based on IQR. (2 points)\n",
    "# Read the textbook if you don't know how to determine outliers based on IQR.\n",
    "\n"
   ]
  },
  {
   "cell_type": "code",
   "execution_count": null,
   "metadata": {
    "collapsed": true
   },
   "outputs": [],
   "source": [
    "# 2-7: Develop a scatter diagram with Revenue on the horizontal axis and value on the vertical axis. \n",
    "# Briefly describe the relationship between the two variables.\n",
    "\n"
   ]
  },
  {
   "cell_type": "code",
   "execution_count": null,
   "metadata": {
    "collapsed": true
   },
   "outputs": [],
   "source": [
    "# 2-8: Compute and display the population covariance and correlation coefficient between the two variables.\n",
    "# Briefly interpret the practical meaning of this correlation coefficient. (2 points)"
   ]
  },
  {
   "cell_type": "markdown",
   "metadata": {
    "collapsed": true
   },
   "source": [
    "### Problem 3: Birthday problem (4 points)\n",
    "What is the probability that at least two people in a room will have the same birthday? Ignore leap year and assume that the probability of birthday falling on any of 365 days is equal.\n",
    "\n",
    "To answer the above question, please write a Python function \"same_bday_prob(i)\" in the cell below. The function takes an integer greater than 1 as input and returns the probability (a real number between 0 and 1) that at least two people have the same birthday."
   ]
  },
  {
   "cell_type": "code",
   "execution_count": null,
   "metadata": {
    "collapsed": true
   },
   "outputs": [],
   "source": [
    "def same_bday_prob(n):\n",
    "    \"\"\"\n",
    "    This function computes the probability that in a crowd of n people,\n",
    "    at least two people have the same birthday.\n",
    "    \n",
    "    n is the number of people in the crowd.\n",
    "    \"\"\"\n",
    "    # start your code below\n",
    "    # Please remove all your testing code in your submission"
   ]
  },
  {
   "cell_type": "code",
   "execution_count": null,
   "metadata": {
    "collapsed": true
   },
   "outputs": [],
   "source": []
  },
  {
   "cell_type": "markdown",
   "metadata": {},
   "source": [
    "## Problem 4 (7 points)\n",
    "\n",
    "#### I'd suggest that you learn how to use markdown in Jupyter notebook.\n",
    "\n",
    "You have two coins, one of which is fair and comes up heads with a probability 1/2, and the other which is biased and comes up heads with probability 3/4. \n",
    "\n",
    "Define the following events:\n",
    "HH = get heads both times\n",
    "HT = get head first time and tail second time\n",
    "TH = get tail first time and head second time\n",
    "TT = get tails both times\n",
    "F = the fair coin is picked\n",
    "B = the biased coin is picked.\n",
    "\n",
    "Use fractions for all your answers below. \n",
    "\n",
    "a. Complete the joint probability table below. (1 point for each column; 5 points in total; explanation must be provided if you give partial credit)\n",
    "\n",
    "||HH|HT|TH|TT|Marginal Prob|\n",
    "|:-|:-:|:-:|:-:|:-:|:-:|\n",
    "|F||||||\n",
    "|B||||||\n",
    "|Marginal Prob||||||\n",
    "\n",
    "b. You randomly pick coin and flip it twice, and get heads both times. What is the probability that you picked the fair coin? Please show your work. (2 points) \n",
    "\n",
    "\n",
    "\n"
   ]
  },
  {
   "cell_type": "markdown",
   "metadata": {},
   "source": [
    "### Problem 5 (4 points)\n",
    "You have a 0.1% chance of picking up a coin with both heads, and a 99.9% chance that you pick up a fair coin. You flip your coin and it comes up heads 10 times. What’s the chance that you picked up the fair coin, given the information that you observed? Use Baye's Theorem to answer the question and show your work. "
   ]
  },
  {
   "cell_type": "code",
   "execution_count": null,
   "metadata": {
    "collapsed": true
   },
   "outputs": [],
   "source": [
    "from scipy.stats import binom, poisson, norm, expon"
   ]
  },
  {
   "cell_type": "markdown",
   "metadata": {},
   "source": [
    "### Problem 6 (Problem 39 on page 251)\n",
    "Market-share-analysis company Net Applications monitors and reports on Internet browser usage. According to Net Applications, in the summer of 2014, google’s Chrome browser exceeded a 20% market share for the first time, with a 20.37% share of the browser market. For a randomly selected group of 20 Internet browser users, answer the following questions. (5 points)"
   ]
  },
  {
   "cell_type": "code",
   "execution_count": null,
   "metadata": {
    "collapsed": true
   },
   "outputs": [],
   "source": [
    "# Question a: Compute the probability that exactly 8 of the 20 Internet browser users use Chrome as their Internet browser.\n"
   ]
  },
  {
   "cell_type": "code",
   "execution_count": null,
   "metadata": {
    "collapsed": true
   },
   "outputs": [],
   "source": [
    "# Question b: Compute the probability that at least 3 of the 20 Internet browser users use Chrome as their Internet browser.\n"
   ]
  },
  {
   "cell_type": "code",
   "execution_count": null,
   "metadata": {
    "collapsed": true
   },
   "outputs": [],
   "source": [
    "# Question c: for the sample of 20 Internet browser users, compute the expected number of Chrome users.\n"
   ]
  },
  {
   "cell_type": "code",
   "execution_count": null,
   "metadata": {
    "collapsed": true
   },
   "outputs": [],
   "source": [
    "# Question d: for the sample of 20 Internet browser users, compute the variance and standard deviation for the number of Chrome users.\n"
   ]
  },
  {
   "cell_type": "markdown",
   "metadata": {},
   "source": [
    "### Problem 7 (Problem 51 on page 255)\n",
    "Over 500 million tweets are sent per day (digital Marketing ramblings website, December 15, 2014). Assume that the number of tweets per hour follows a Poisson dis- tribution and that Bob receives on average 7 tweets during his lunch hour. (5 points)"
   ]
  },
  {
   "cell_type": "code",
   "execution_count": null,
   "metadata": {
    "collapsed": true
   },
   "outputs": [],
   "source": [
    "# Question a: what is the probability that Bob receives no tweets during his lunch hour?"
   ]
  },
  {
   "cell_type": "code",
   "execution_count": null,
   "metadata": {
    "collapsed": true
   },
   "outputs": [],
   "source": [
    "# Question b: what is the probability that Bob receives at least 4 tweets during his lunch hour?"
   ]
  },
  {
   "cell_type": "code",
   "execution_count": null,
   "metadata": {
    "collapsed": true
   },
   "outputs": [],
   "source": [
    "# question c: what is the expected number of tweets Bob receives during the first 30 minutes of his lunch hour?"
   ]
  },
  {
   "cell_type": "code",
   "execution_count": null,
   "metadata": {
    "collapsed": true
   },
   "outputs": [],
   "source": [
    "# question d: what is the probability that Bob receives no tweets during the first 30 minutes of his lunch hour?"
   ]
  },
  {
   "cell_type": "markdown",
   "metadata": {},
   "source": [
    "### Problem 8 (Problem 22 on page 287)\n",
    "Television viewing reached a new high when the Nielsen Company reported a mean daily viewing time of 8.35 hours per household (USa today, November 11, 2009). Use a nor­ mal probability distribution with a standard deviation of 2.5 hours to answer the following questions about daily television viewing per household. (5 points)"
   ]
  },
  {
   "cell_type": "code",
   "execution_count": null,
   "metadata": {
    "collapsed": true
   },
   "outputs": [],
   "source": [
    "# question a: what is the probability that a household views television between 5 and 10 hours a day?\n"
   ]
  },
  {
   "cell_type": "code",
   "execution_count": null,
   "metadata": {
    "collapsed": true
   },
   "outputs": [],
   "source": [
    "# question b: how many hours of television viewing must a household have in order to be in the top 3% of all television viewing households?\n"
   ]
  },
  {
   "cell_type": "code",
   "execution_count": null,
   "metadata": {
    "collapsed": true
   },
   "outputs": [],
   "source": [
    "# question c: what is the probability that a household views television more than 3 hours a day?\n"
   ]
  },
  {
   "cell_type": "markdown",
   "metadata": {},
   "source": [
    "### Problem 9 (Problem 36 on page 294)\n",
    "Comcast Corporation is the largest cable television company, the second largest Internet service provider, and the fourth largest telephone service provider in the United States. Generally known for quality and reliable service, the company periodically experiences unexpected service interruptions. On January 14, 2014, such an interruption occurred for the Comcast customers living in southwest Florida. when customers called the Comcast office, a recorded message told them that the company was aware of the service outage and that it was anticipated that service would be restored in two hours. Assume that two hours is the mean time to do the repair and that the repair time has an exponential probability distribution. (5 points)"
   ]
  },
  {
   "cell_type": "code",
   "execution_count": null,
   "metadata": {
    "collapsed": true
   },
   "outputs": [],
   "source": [
    "# question a: what is the probability that the cable service will be repaired in one hour or less?"
   ]
  },
  {
   "cell_type": "code",
   "execution_count": null,
   "metadata": {
    "collapsed": true
   },
   "outputs": [],
   "source": [
    "# question b: what is the probability that the repair will take between one hour and two hours?"
   ]
  },
  {
   "cell_type": "code",
   "execution_count": null,
   "metadata": {
    "collapsed": true
   },
   "outputs": [],
   "source": [
    "# question c: For a customer who calls the Comcast office at 1:00 p.m., what is the probability that\n",
    "# the cable service will not be repaired by 5:00 p.m.?"
   ]
  }
 ],
 "metadata": {
  "anaconda-cloud": {},
  "kernelspec": {
   "display_name": "Python 3",
   "language": "python",
   "name": "python3"
  },
  "language_info": {
   "codemirror_mode": {
    "name": "ipython",
    "version": 3
   },
   "file_extension": ".py",
   "mimetype": "text/x-python",
   "name": "python",
   "nbconvert_exporter": "python",
   "pygments_lexer": "ipython3",
   "version": "3.6.3"
  }
 },
 "nbformat": 4,
 "nbformat_minor": 1
}
