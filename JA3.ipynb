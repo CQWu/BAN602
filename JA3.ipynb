{
 "cells": [
  {
   "cell_type": "code",
   "execution_count": null,
   "metadata": {
    "collapsed": true
   },
   "outputs": [],
   "source": [
    "from scipy.stats import binom, norm, t, chi2, f\n",
    "from statistics import stdev, variance, mean"
   ]
  },
  {
   "cell_type": "markdown",
   "metadata": {},
   "source": [
    "### Problem 1\n",
    "To test whether a coin is a fair coin, we decide to flip this coin n times (n = 10, 30, and 50, respectively) and count the numbers of Heads (H) and Tails (T) we observe. Let X be the number of Hs observed from n tosses and p be the actual probability of getting H from flipping this coin. If this is a fair coin, then p = .5. Suppose the significance level $\\alpha$ is .05. Here are the hypotheses:\n",
    "\n",
    "$H_0: p = .5$ (This is a fair coin)\n",
    "\n",
    "$H_a: p \\neq .5$ (This is a biased coin)\n",
    "\n",
    "For each of the following questions, write down one line of Python code to compute corresponding p-value. Ensure you use binom distribution instead of norm distribution."
   ]
  },
  {
   "cell_type": "code",
   "execution_count": null,
   "metadata": {
    "collapsed": true
   },
   "outputs": [],
   "source": [
    "# 1-a: Compute the p-value if we have observed 8 Ts out of 10 tosses and draw your conclusion whether this is a fair coin. (2 points) \n",
    "\n",
    "\n"
   ]
  },
  {
   "cell_type": "code",
   "execution_count": null,
   "metadata": {
    "collapsed": true
   },
   "outputs": [],
   "source": [
    "# 1-b: Compute the p-value if we have observed 24 Ts out of 30 tosses and draw your conclusion whether this is a fair coin. (2 points) \n",
    "\n"
   ]
  },
  {
   "cell_type": "code",
   "execution_count": null,
   "metadata": {
    "collapsed": true
   },
   "outputs": [],
   "source": [
    "# 1-c: Compute the p-value if we have observed 40 Ts and draw your conclusion whether this is a fair coin. (2 points) \n",
    "\n"
   ]
  },
  {
   "cell_type": "markdown",
   "metadata": {},
   "source": [
    "### Problem 2 (9-31, P413)\n",
    "The coca-cola company reported that the mean per capita annual sales of its beverages in the united States was 423 eight-ounce servings. Suppose you are curious whether the consumption of coca-cola beverages is higher in atlanta, georgia, the location of coca-cola’s corporate headquarters. A sample of 36 individuals from the atlanta area showed a sample mean annual consumption of 460.4 eight-ounce servings with a standard deviation of s = 101.9 eight-ounce servings. Using $\\alpha$ = .05, do the sample results support the conclusion that mean annual consumption of coca-cola beverage products is higher in atlanta?\n"
   ]
  },
  {
   "cell_type": "markdown",
   "metadata": {},
   "source": [
    "##### 2-a: In this Markdown cell, please clearly specify your hypotheses. (1 point)\n",
    "\n"
   ]
  },
  {
   "cell_type": "code",
   "execution_count": null,
   "metadata": {
    "collapsed": true
   },
   "outputs": [],
   "source": [
    "# 2-b: Compute the value of the test statistic and the critical value of the test statistic. (2 points)\n",
    "\n"
   ]
  },
  {
   "cell_type": "code",
   "execution_count": null,
   "metadata": {
    "collapsed": true
   },
   "outputs": [],
   "source": [
    "# 2-c: Compute the corresponding p-value for the test. Draw your conclusion to the test. (2 points)\n",
    "\n"
   ]
  },
  {
   "cell_type": "markdown",
   "metadata": {},
   "source": [
    "### Problem 3 (9-42, P418)\n",
    "According to the university of nevada center for logistics Management, 6% of all merchandise sold in the united States gets returned. A Houston department store sampled 80 items sold in January and found that 12 of the items were returned. Is the proportion of returns at the Houston store significantly different from the returns for the nation as a whole? Test the above by completing the following:\n",
    "\n",
    "a. Clearly state your null and alternative hypotheses. (1 pt)\n",
    "\n",
    "b. Use one line of Python code to compute the corresponding p-value. (1 pt)\n",
    "\n",
    "c. At a significance level of 5%, draw the conclusion to your hypothesis test. (1 pt)\n",
    "\n",
    "d. Construct a 95% confidence interval for the proportion of returns at the Houston store. (1 pt)"
   ]
  },
  {
   "cell_type": "code",
   "execution_count": null,
   "metadata": {
    "collapsed": true
   },
   "outputs": [],
   "source": [
    "# 3-a: \n",
    "\n",
    "\n"
   ]
  },
  {
   "cell_type": "code",
   "execution_count": null,
   "metadata": {
    "collapsed": true
   },
   "outputs": [],
   "source": [
    "# 3-b: \n",
    "\n",
    "\n"
   ]
  },
  {
   "cell_type": "code",
   "execution_count": null,
   "metadata": {
    "collapsed": true
   },
   "outputs": [],
   "source": [
    "# 3-c:"
   ]
  },
  {
   "cell_type": "code",
   "execution_count": null,
   "metadata": {
    "collapsed": true
   },
   "outputs": [],
   "source": [
    "# 3-d: Construct a 95% confidence interval for the proportion of returns at the Houston store. \n",
    "\n"
   ]
  },
  {
   "cell_type": "markdown",
   "metadata": {},
   "source": [
    "### Problem 4 (9-49, P424)\n",
    "A consumer research group is interested in testing an automobile manufacturer’s claim that a new economy model will travel at least 25 miles per gallon of gasoline (h0: $\\mu$ >= 25)."
   ]
  },
  {
   "cell_type": "markdown",
   "metadata": {},
   "source": [
    "##### 4-a: With a .02 level of significance and a sample of 30 cars, what is the critical value of sample mean beyond which the manufacturer’s claim should be rejected? Assume that $\\sigma$ is 3 miles per gallon. Use one line of Python code to compute this critical value of sample mean. (2 points)"
   ]
  },
  {
   "cell_type": "code",
   "execution_count": null,
   "metadata": {
    "collapsed": true
   },
   "outputs": [],
   "source": []
  },
  {
   "cell_type": "code",
   "execution_count": null,
   "metadata": {
    "collapsed": true
   },
   "outputs": [],
   "source": [
    "# 4-b: What is the probability of committing a type ii error if the actual mileage is 23 miles per gallon? (1 point)\n",
    "\n"
   ]
  },
  {
   "cell_type": "markdown",
   "metadata": {},
   "source": [
    "### Problem 5\n",
    "Create a function named “compute_power_in_two_tailed_test”. (4 points)\n",
    "The function takes the following inputs: \n",
    "1. mu_b: a real number for population mean based on which we compute beta value and power; \n",
    "    * Recall that Type II error is accepting H0 when it is false.\n",
    "2. mu_h: a real number for hypothesized population mean in the original hypotheses; \n",
    "3. n: a positive integer for sample size; \n",
    "4. alpha: a real number between 0 and 1 for significance level\n",
    "5. sd: a positive real number for population or sample standard deviation; \n",
    "6. pop: a boolean indicating whether sd is population standard deviation or sample sd. The default is True.\n",
    "\n",
    "The function returns a real number between 0 and 1 for the power of the hypothesis test. \n",
    "* Note that the returned value is power, not beta."
   ]
  },
  {
   "cell_type": "code",
   "execution_count": null,
   "metadata": {
    "collapsed": true
   },
   "outputs": [],
   "source": [
    "\n",
    "def compute_power_in_two_tailed_test(mu_b, mu_h, n, alpha, sd, pop=True):\n",
    "    from scipy.stats import norm, t\n",
    "    \n",
    "    # start your code below\n"
   ]
  },
  {
   "cell_type": "markdown",
   "metadata": {
    "collapsed": true
   },
   "source": [
    "### Problem 6 (10-17, p459)\n",
    "Periodically, Merrill Lynch customers are asked to evaluate Merrill Lynch financial consultants and services. Higher ratings on the client satisfaction survey indicate better service, with 7 the maximum service rating. Independent samples of service ratings for two financial consultants are summarized here. Consultant A has 10 years of experience, whereas consultant B has 1 year of experience. Use $\\alpha$ = .05 and test to see whether the consultant with more experience has the higher population mean service rating.\n",
    "\n",
    "Consultant A: $n_1$ = 16, $\\overline{x}_1$ = 6.82, $s_1$ = 0.64\n",
    "\n",
    "Consultant B: $n_2$ = 10, $\\overline{x}_2$ = 6.25, $s_2$ = 0.75"
   ]
  },
  {
   "cell_type": "code",
   "execution_count": null,
   "metadata": {
    "collapsed": true
   },
   "outputs": [],
   "source": [
    "# Please use the variables defined below for your computation and do NOT make any change.\n",
    "n1=16; x1bar = 6.82; s1 = 0.64; n2=10; x2bar = 6.25; s2=0.75; alpha = 0.05"
   ]
  },
  {
   "cell_type": "markdown",
   "metadata": {},
   "source": [
    "##### 6-a: State the null and alternative hypotheses and clearly specify the type of the test (lower-tail, upper-tail, or two-tailed) in this markdown cell. (1 point)\n",
    "\n"
   ]
  },
  {
   "cell_type": "code",
   "execution_count": null,
   "metadata": {
    "collapsed": true
   },
   "outputs": [],
   "source": [
    "# 6-b: Write a lambda function for computing standard error of the difference between to population means. \n",
    "# And then use this lambda function to compute the standard error and test statistic for this problem.\n",
    "# Print out both your standard error and test statistic. (1 point)\n",
    "\n"
   ]
  },
  {
   "cell_type": "code",
   "execution_count": null,
   "metadata": {
    "collapsed": true
   },
   "outputs": [],
   "source": [
    "# 6-c: Write a lambda function for computing the degree of freedom.\n",
    "# Use this lambda function to compute the degree of freedom for this problem. \n",
    "# (1 point)\n",
    "\n"
   ]
  },
  {
   "cell_type": "code",
   "execution_count": null,
   "metadata": {
    "collapsed": true
   },
   "outputs": [],
   "source": [
    "# 6-d: Compute the p-value and draw your conclusion. b\n",
    "# (2 points)\n",
    "\n"
   ]
  },
  {
   "cell_type": "markdown",
   "metadata": {},
   "source": [
    "### Problem 7 (10-31, p470)\n",
    "Forbes reports that women trust recommendations from Pinterest more than recommendations from any other social network platform. But does trust in Pinterest differ by gender? The following sample data show the number of women and men who stated in a recent sample that they trust recommendations made on Pinterest.\n",
    "\n",
    "||Women|Men|\n",
    "|:-|:-:|:-:|\n",
    "|Sample|150|170|\n",
    "|Trust Recommendations Made on Pinterest|117|102|"
   ]
  },
  {
   "cell_type": "code",
   "execution_count": null,
   "metadata": {
    "collapsed": true
   },
   "outputs": [],
   "source": [
    "# 7-a: What is the point estimate of the proportion of women who trust recommendations made on Pinterest?\n",
    "# What is the point estimate of the proportion of men who trust recommendations made on Pinterest? \n",
    "# (1 point)\n",
    "\n"
   ]
  },
  {
   "cell_type": "code",
   "execution_count": null,
   "metadata": {
    "collapsed": true
   },
   "outputs": [],
   "source": [
    "# 7-b: Write a lambda function for computing se of confidence interval of the difference between to population proportions.\n",
    "# Use the lambda function to compute the standard error for confidence interval of the difference between to population proportions\n",
    "# (1 point)\n",
    "\n"
   ]
  },
  {
   "cell_type": "code",
   "execution_count": null,
   "metadata": {
    "collapsed": true
   },
   "outputs": [],
   "source": [
    "# 7-c: Provide a 95% confidence interval estimate of the difference between the proportion of women and men \n",
    "# who trust recommendations made on Pinterest.\n",
    "# (1 point)\n",
    "\n"
   ]
  },
  {
   "cell_type": "code",
   "execution_count": null,
   "metadata": {
    "collapsed": true
   },
   "outputs": [],
   "source": [
    "# 7-d: Write a lambda function for computing se for hypothesis testing of the difference between to population proportions.\n",
    "# Use the lambda function to compute the standard error for hypothesis testing of the difference between to population proportions\n",
    "# (1 point)\n",
    "\n"
   ]
  },
  {
   "cell_type": "code",
   "execution_count": null,
   "metadata": {
    "collapsed": true
   },
   "outputs": [],
   "source": [
    "# 7-e: at 1% significance level, \n",
    "# test the hypothesis whether proportion of women trusting Pinterest recommendations is more than that of men.\n",
    "# Please clearly state your null and alternative hypotheses. \n",
    "# (2 points)\n",
    "\n"
   ]
  }
 ],
 "metadata": {
  "anaconda-cloud": {},
  "kernelspec": {
   "display_name": "Python 3",
   "language": "python",
   "name": "python3"
  },
  "language_info": {
   "codemirror_mode": {
    "name": "ipython",
    "version": 3
   },
   "file_extension": ".py",
   "mimetype": "text/x-python",
   "name": "python",
   "nbconvert_exporter": "python",
   "pygments_lexer": "ipython3",
   "version": "3.6.3"
  }
 },
 "nbformat": 4,
 "nbformat_minor": 1
}
