{
 "cells": [
  {
   "cell_type": "markdown",
   "metadata": {},
   "source": [
    "### Linear Algebra Foundations #1 - Matrix Addition\n",
    "\n",
    "Matrix Addition\n",
    "\n",
    "Add the two  matrices given below and find the integers corresponding to a, b, c, d, e, f, g, h, and i:\n",
    "\n",
    "[1  2  3]       [4  5  6]     [a b c]\n",
    "\n",
    "[2  3  4]   +   [7  8  9]  =  [d e f] \n",
    "\n",
    "[1  1  1]       [4  5  7]     [g h i]\n",
    "\n",
    "To submit your answer, enter the resultant values of each of the nine integers (i.e., a, b, c, d, e, f, g, h, and i) on a new line and click Submit Code.\n",
    "\n",
    "Input Format\n",
    "\n",
    "There is no input for this challenge; calculate the values of  through  using the matrices given above.\n",
    "\n",
    "Output Format\n",
    "\n",
    "In the text box below, enter the values of each of the nine integers on a new line. You must have a total of nine lines of output and the integers must be printed in order (i.e., a, b, c, d, e, f, g, h, and i, respectively).\n",
    "\n",
    "Sample Output\n",
    "\n",
    "1\n",
    "\n",
    "2\n",
    "\n",
    "3\n",
    "\n",
    "4\n",
    "\n",
    "5\n",
    "\n",
    "6\n",
    "\n",
    "7\n",
    "\n",
    "8\n",
    "\n",
    "9"
   ]
  },
  {
   "cell_type": "markdown",
   "metadata": {},
   "source": []
  },
  {
   "cell_type": "markdown",
   "metadata": {},
   "source": [
    "### Linear Algebra Foundations #2 - Matrix Subtraction\n",
    "\n",
    "Matrix Subtraction\n",
    "\n",
    "A matrix of size 3x3 is subtracted from another of a similar size. Find the integers A, B, C, D, E, F, G, H, I in the resultant matrix.\n",
    "\n",
    "[1  2  3 ]        [4  5  6 ]      [A  B  C]\n",
    "[2  3  4 ]   -    [7  8  9 ]   =  [D  E  F] \n",
    "[1  1  1 ]        [4  5  0 ]      [G  H  I]\n",
    "In the text box below, enter each of the 9 integers, A, B, C, ...  on a new line."
   ]
  },
  {
   "cell_type": "markdown",
   "metadata": {},
   "source": []
  },
  {
   "cell_type": "markdown",
   "metadata": {},
   "source": [
    "### Linear Algebra Foundations #3- Matrix Multiplication\n",
    "\n",
    "Matrix Multiplication\n",
    "\n",
    "Two matrices of size 2x2 are multiplied as shown below. Find the integers A, B, C, D in the resultant matrix.\n",
    "\n",
    "[1  2 ]   x     [4  5 ]      [A  B]\n",
    "[2  3 ]         [7  8 ]   =  [C  D] \n",
    "In the text box below, enter each of the four integers, A, B, C, D on a new line."
   ]
  },
  {
   "cell_type": "markdown",
   "metadata": {},
   "source": []
  },
  {
   "cell_type": "markdown",
   "metadata": {},
   "source": [
    "### Linear Algebra Foundations #4- Matrix Multiplication\n",
    "\n",
    "Matrix Multiplication\n",
    "\n",
    "Two matrices of size 3x3 are multiplied as shown below. Find the integers A, B, C, D, E, F, G, H, I in the resultant matrix.\n",
    "\n",
    "[1  2  3 ]        [4  5  6 ]      [A  B  C ]\n",
    "[2  3  4 ]   x    [7  8  9 ]   =  [D  E  F ] \n",
    "[1  1  1 ]        [4  5  7 ]      [G  H  I ]\n",
    "In the text box below, enter each of the 9 integers, A, B, C, ...  on a new line."
   ]
  },
  {
   "cell_type": "markdown",
   "metadata": {},
   "source": []
  },
  {
   "cell_type": "markdown",
   "metadata": {},
   "source": [
    "### Linear Algebra Foundations #5 - The 100th Power of a Matrix\n",
    "\n",
    "Given the following matrix :\n",
    "\n",
    "            [1   1   0 ]\n",
    "      A =   [0   1   0 ]\n",
    "            [0   0   1 ]\n",
    "We compute that\n",
    "\n",
    "$A^{100}$ =\n",
    "\n",
    "    [A B 0]\n",
    "    [0 C 0]\n",
    "    [0 D E]\n",
    "In the text box below, enter the values of the integers A, B, C, D, E each in a new line. Do not leave any extra leading or trailing spaces."
   ]
  },
  {
   "cell_type": "markdown",
   "metadata": {},
   "source": []
  },
  {
   "cell_type": "markdown",
   "metadata": {},
   "source": [
    "### Linear Algebra Foundations #6 - An Equation involving Matrices\n",
    "\n",
    "Given the following matrix A:\n",
    "\n",
    "            [1   1   0 ]\n",
    "      A =   [0   1   0 ]\n",
    "            [0   0   1 ]\n",
    "Calculate the real numbers  and  such that:\n",
    "\n",
    "$A^2$ + $xA$ + $yI$ = 0 ($I$ is the 3 x 3 identity matrix)\n",
    "\n",
    "In the text box below, enter the integers  and  each on a new line, respectively. Do not leave any leading or trailing spaces."
   ]
  },
  {
   "cell_type": "markdown",
   "metadata": {},
   "source": []
  },
  {
   "cell_type": "markdown",
   "metadata": {},
   "source": [
    "### Linear Algebra Foundations #7 - The 1000th Power of a Matrix\n",
    "\n",
    "You are provided a matrix A =\n",
    "\n",
    "       [-2     -9 ]                  \n",
    "       [ 1      4 ]          \n",
    "The 1000th power of , i.e. $A^{1000}$ =\n",
    "\n",
    "        [A  B]\n",
    "        [C  D]\n",
    "In the text box below, enter the integers A, B, C and D each on a new line, respectively. Do not leave any leading or trailing spaces."
   ]
  },
  {
   "cell_type": "markdown",
   "metadata": {},
   "source": []
  },
  {
   "cell_type": "markdown",
   "metadata": {},
   "source": [
    "### Linear Algebra Foundations #8 - Systems of Equations\n",
    "\n",
    "There are more than one integer values of a for which the following system of equations in x, y, z has no solutions:\n",
    "\n",
    "ax + y + 2 z = 0 \n",
    "\n",
    "x + 2 y + z = b \n",
    "\n",
    "2 x + y + az = 0\n",
    "\n",
    "What is the smallest integer value of a for which the above system has no solutions? Fill in the required integer value into the text box. Do not leave any leading or trailing spaces."
   ]
  },
  {
   "cell_type": "markdown",
   "metadata": {},
   "source": []
  },
  {
   "cell_type": "markdown",
   "metadata": {},
   "source": [
    "### Linear Algebra Foundations #9 - Eigenvalues\n",
    "\n",
    "Given the matrix A =\n",
    "\n",
    "[0   1]\n",
    "\n",
    "[-2 -3]\n",
    "\n",
    "Compute the two eigenvalues of this matrix, and enter each of the two integers on a new line in the text box below, for submitting your answer. Enter the smaller eigenvalue in the first line and the larger eigenvalue in the second line.\n",
    "\n",
    "For example, your answer may look like:\n",
    "\n",
    "-1 \n",
    "\n",
    "4"
   ]
  },
  {
   "cell_type": "markdown",
   "metadata": {},
   "source": []
  },
  {
   "cell_type": "markdown",
   "metadata": {},
   "source": [
    "### Linear Algebra Foundations #10 - Eigenvectors\n",
    "\n",
    "Given the matrix A =\n",
    "\n",
    "[0   1]\n",
    "[-2 -3]\n",
    "The two Eigenvectors of this matrix are computed as:\n",
    "\n",
    "v1 = $k_1$ $[+1 A ]^T$ and v2 = $k_1$ $[+1 B ]^T$\n",
    "\n",
    "Also, A < B \n",
    "In the text box, enter the two integers A and B, each on a new line."
   ]
  },
  {
   "cell_type": "markdown",
   "metadata": {},
   "source": []
  },
  {
   "attachments": {
    "Determinant%20of%20the%20matrix%201.png": {
     "image/png": "[encoded data removed]"
    }
   },
   "cell_type": "markdown",
   "metadata": {},
   "source": [
    "### Determinant of the matrix #1\n",
    "\n",
    "Find determinant of the following matrix -\n",
    "\n",
    "![Determinant%20of%20the%20matrix%201.png](attachment:Determinant%20of%20the%20matrix%201.png)\n",
    "\n",
    "Your answer’s determinant value should look like this:\n",
    "\n",
    "5"
   ]
  },
  {
   "cell_type": "markdown",
   "metadata": {},
   "source": []
  },
  {
   "cell_type": "markdown",
   "metadata": {},
   "source": [
    "### Determinant of the matrix #2\n",
    "\n",
    "Let A be a 3 × 3 matrix with |A| = 5. Find each of the following -\n",
    "\n",
    "|$A^T$|\n",
    "\n",
    "|2A|\n",
    "\n",
    "Your answer should have first answer followed by the second answer separated by a line(resembling this) -\n",
    "\n",
    "5\n",
    "\n",
    "6"
   ]
  },
  {
   "cell_type": "markdown",
   "metadata": {},
   "source": []
  },
  {
   "attachments": {
    "Determinant%20of%20the%20matrix%203-1.png": {
     "image/png": "[encoded data removed]"
    },
    "Determinant%20of%20the%20matrix%203-2.png": {
     "image/png": "[encoded data removed]"
    }
   },
   "cell_type": "markdown",
   "metadata": {},
   "source": [
    "### Determinant of the matrix #3\n",
    "\n",
    "Given following expression - ![Determinant%20of%20the%20matrix%203-1.png](attachment:Determinant%20of%20the%20matrix%203-1.png)\n",
    "\n",
    "Find the following determinant value - ![Determinant%20of%20the%20matrix%203-2.png](attachment:Determinant%20of%20the%20matrix%203-2.png)\n",
    "\n",
    "Your answer’s determinant value should look like this:\n",
    "\n",
    "5"
   ]
  },
  {
   "cell_type": "markdown",
   "metadata": {},
   "source": []
  },
  {
   "cell_type": "markdown",
   "metadata": {},
   "source": []
  },
  {
   "cell_type": "markdown",
   "metadata": {},
   "source": []
  },
  {
   "cell_type": "markdown",
   "metadata": {},
   "source": []
  },
  {
   "cell_type": "markdown",
   "metadata": {},
   "source": []
  },
  {
   "cell_type": "markdown",
   "metadata": {},
   "source": []
  },
  {
   "cell_type": "markdown",
   "metadata": {},
   "source": []
  },
  {
   "cell_type": "markdown",
   "metadata": {},
   "source": []
  },
  {
   "cell_type": "markdown",
   "metadata": {},
   "source": []
  },
  {
   "cell_type": "markdown",
   "metadata": {},
   "source": []
  },
  {
   "cell_type": "markdown",
   "metadata": {},
   "source": []
  },
  {
   "cell_type": "markdown",
   "metadata": {},
   "source": []
  },
  {
   "cell_type": "markdown",
   "metadata": {},
   "source": []
  },
  {
   "cell_type": "markdown",
   "metadata": {},
   "source": []
  },
  {
   "cell_type": "markdown",
   "metadata": {},
   "source": []
  },
  {
   "cell_type": "markdown",
   "metadata": {},
   "source": []
  },
  {
   "cell_type": "markdown",
   "metadata": {},
   "source": []
  },
  {
   "cell_type": "markdown",
   "metadata": {},
   "source": []
  },
  {
   "cell_type": "markdown",
   "metadata": {},
   "source": []
  },
  {
   "cell_type": "markdown",
   "metadata": {},
   "source": []
  }
 ],
 "metadata": {
  "kernelspec": {
   "display_name": "Python 3",
   "language": "python",
   "name": "python3"
  },
  "language_info": {
   "codemirror_mode": {
    "name": "ipython",
    "version": 3
   },
   "file_extension": ".py",
   "mimetype": "text/x-python",
   "name": "python",
   "nbconvert_exporter": "python",
   "pygments_lexer": "ipython3",
   "version": "3.6.3"
  }
 },
 "nbformat": 4,
 "nbformat_minor": 2
}
